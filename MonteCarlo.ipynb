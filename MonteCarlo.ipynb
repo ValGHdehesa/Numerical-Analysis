{
  "nbformat": 4,
  "nbformat_minor": 0,
  "metadata": {
    "colab": {
      "name": "MonteCarlo.ipynb",
      "provenance": [],
      "collapsed_sections": [],
      "toc_visible": true
    },
    "kernelspec": {
      "name": "python3",
      "display_name": "Python 3"
    }
  },
  "cells": [
    {
      "cell_type": "markdown",
      "metadata": {
        "id": "EWtrWxKMRvH0"
      },
      "source": [
        "\n",
        "# Resolución de Ecuaciones Diferenciales Ordinarias utilizando Integración Monte Carlo\n",
        "\n",
        "### Dehesa Corona Valeria Carolina\n",
        "### Proyecto final para la materia de Análisis Numérico\n",
        "\n",
        "  \n",
        "\n"
      ]
    },
    {
      "cell_type": "markdown",
      "metadata": {
        "id": "p-ljzlTQWj9y"
      },
      "source": [
        "# Abstract\n",
        "\n",
        "A linear differential equation is a differential equation that is defined by a linear polynomial in the unknown function and its derivatives. An initial value problem or ivp is an ordinary differential equation together with an initial condition which specifies the value of the unknown function at a given point in the domain. The present work aims to establish an implementation to solve these initial value problems using Monte Carlo methods for integration. This will be approached by using an important lemma that allows us to tranform an initial value problem to an equation involving an integral. Finally we´ll conclude that, because of its easy implementation it is a valid option for these type of problems."
      ]
    },
    {
      "cell_type": "markdown",
      "metadata": {
        "id": "1TmU7a98WuM1"
      },
      "source": [
        "#Objetivos\n",
        "Presentar los resultados que permiten el uso de Método Monte Carlo para aproximación de integrales, establecer mediante el Método Monte Carlo un método de solución de problemas de valor inicial y finalmente concluir si vale la pena este acercamiento para resolverlos"
      ]
    },
    {
      "cell_type": "markdown",
      "metadata": {
        "id": "iGJ03fqTRsUI"
      },
      "source": [
        "# Introducción\n",
        "\n"
      ]
    },
    {
      "cell_type": "markdown",
      "metadata": {
        "id": "g4LaJJrciFmK"
      },
      "source": [
        "El método Monte Carlo aunque computacionalmente \"caro\", resulta relativamente sencillo de implementar y es ampliamente utilizado en el ámbito de la investigación. Por ello, es de mi interés en el presente trabajo establecer un método mediante Integración Monte Carlo para resolver problemas de valor inicial y comprobar su eficacia.\n",
        "\n",
        "Los problemas de valor inicial de ecuaciones diferenciales pueden ser resueltos pasándolos a ecuaciones con integrales. A veces resulta difícil (o hasta imposible) resolver una integral mediante métodos analíticos, por lo que los métodos numéricos llegan a facilitar este paso con un costo de error que varía dependiendo del método.\n",
        "\n",
        "Los métodos Monte Carlo son algoritmos basados en muestreos aleatorios para obtener resutados numéricos. A pesar de que los muestreos aleatorios son sumamente complejos para obtener en la realidad, actualmente mediante computadoras se han construido métodos generadores de números pseudoaleatorios que han facilitado el proceso.\n",
        "\n",
        "\n",
        "\n"
      ]
    },
    {
      "cell_type": "markdown",
      "metadata": {
        "id": "1k-VWULJWxQF"
      },
      "source": [
        "#Marco Teórico"
      ]
    },
    {
      "cell_type": "markdown",
      "metadata": {
        "id": "e1Y9pPOP2awE"
      },
      "source": [
        "## Historia Método Monte Carlo\n",
        "\n",
        "Podríamos decir que los creadores del Método Monte Carlo fueron Stanislaw Ulam y John Von Neumann. A pesar de que la idea fue creada por Ulam, fue Von Neumann quien reconoció el potencial de la implementación. \n",
        "\n",
        "Ulam tenía una fascinación con los procesos estocásticos, tenía como pasatiempo los juegos de azar y disfrutaba de jugar solitario. Conocía bien métodos estadísticos que se basaban en muestreos aleatorios y los consideraba tediosos por la cantidad de operaciones necesarias para su uso. Un día de convalecencia, Ulam tuvo la idea de calcular la probabilidad de ganar un \"Canfield\" (juego de solitario con probabilidades bajas de ganar) y al fallar intentando resolver el problema por combinatoria, se le ocurrió la idea acomodar las cartas cientos de veces y contar cuantas salían exitosas. \n",
        "\n",
        "En la primavera de 1946,  John William Mauchly y John Presper Eckert invitaron a un grupo de renombrados científicos a conocer la computadora ENIAC ( Electronic Numerical Integrator And Computer), entre ellos estaban Ulam y Von Neumann. Entusiasmado con el potencial de la ENIAC, Ulam le platicó a Neumann sus ideas y juntos formularon un posible acercamiento a un problema termonuclear que se trabajó desde el proyecto Manhattan, el proyecto que diseñó y construyó las primeras armas nucleares.\n",
        "\n",
        "En 1947, John Von Neumann envío una carta a Robert Richtmyer,líder de la división teórica del Laboratorio Alamos donde explicaba un posible acercamiento estadístico al problema de la difusión de neutrones en material fisionable.\n",
        "\n",
        "Básicamente, Neumann y Ulam proponían considerar un núcleo esférico de material fisionable rodeado de un \"caparazón\" de material maleable. Asumiendo una distribución inicial de neutrones  en espacio y velocidad pero ignorando los efectos radiativos e hidrodinámicos. La idea era seguir el desarrollo de un largo número de cadenas de neutrones individuales como una consecuencia de\n",
        "dispersión, absorción, y fisión.\n",
        "\n",
        "Después de recibir la respuesta, Neumann y Ulam volvieron a la ENIAC (ahora en su nuevo hogar: Maryland) y comenzaron a programar. Esta investigación fue utilizada para la creación de la Bomba de hidrógeno o Bomba H. Un arma nuclear de segunda generación; más compacta, liviana y más destructiva.\n",
        "\n",
        "En cuanto a su contexto histórico,  resulta irónico pensar en la enorme cantidad de avances científicos que, aunque ahora ayudan a construir un mejor futuro para la humanidad, surgieron motivados por objetivos que el día de hoy consideraríamos inmorales. Sin duda, aquellos que trabajaron en el proyecto Manhattan eran destacables como científicos(algunos son recordados como genios), aunque la historia ha puesto en duda su calidad moral. \n",
        "\n",
        "Una anécdota no tan conocida es que en 1945, Leo Szilard y otros 70 científicos del proyecto Manhattan presentaron la \"Szilárd petition\", una carta dirigida al presidente Truman pidiéndole presentar sus términos a Japón y advirtiendo de su intención de utilizar la bomba en caso de no rendición. La carta nunca llegó al presidente Truman y la bomba llegó a Hiroshima el 6 de agosto de 1945, 9 días antes de la rendición oficial de Japón.\n",
        "\n",
        "\"If you say why not bomb [the Soviets] tomorrow, I say, why not today. If you say today at five o'clock, I say why not one o'clock?\" -John Von Neumann."
      ]
    },
    {
      "cell_type": "markdown",
      "metadata": {
        "id": "h6tJ7p6DiNnX"
      },
      "source": [
        "## Problemas de Valor Inicial\n",
        "\n",
        "Tomaremos las EDO de la siguiente forma:\n",
        "\n",
        "$$\\frac{dx}{dt} = f(t,x(t))$$\n",
        "\n",
        "tal que $x(t_0)=x_0$ valor inicial de la ecuación. \n",
        "\n",
        "Esta forma de ecuación diferencial ordinaria es conocida como \"problema de valor inicial\".\n",
        "\n",
        "Un lema interesante que será revisado aquí, es que siempre podemos convertir una ecuación diferencial de primer orden en la siguiente ecuación:\n",
        "\n",
        "$$x(t) = x_0 + \\int_{t_0}^{t} f(s,x(s))ds$$\n",
        "\n",
        "Que convierte el problema en un problema de integración. La implementación de la regla de Simpson para resolver esta  ecuación resulta en las ecuaciones Runge-Kutta de cuarto orden. Los métodos Runge-Kutta, así como el método de Euler son tradicionalmente utilizados para resolver estos problemas de valor inicial.\n",
        "\n",
        "\n",
        "## Soluciones de Ecuaciones Diferenciales Ordinarias de primer orden\n",
        "\n",
        "Para garantizar la existencia de una solución para la ecuación diferencial ordinaria, uno asume que $f$ es continua en el dominio sobre el cual se quiere resolver la ecuación. Para la unicidad de dicha solución $f$ debe cumplir con la condición de Lipschitz, que nos dice:\n",
        "\n",
        "La función $f : X \\rightarrow \\mathbb{R}$ es Lipschitz continua si existe un valor $K$ tal que $|f(x)-f(y)| \\leq K||x-y||$ para toda $x,y \\in X$.\n",
        "\n",
        "Esta condición es más fuerte que la de continuidad. Una función que es diferenciable en todo su dominio es Lipschitz continua si su primera derivada está acotada y toda función continuamente diferenciable es Lipschitz localmente ya que toda función continua es localmente acotada.\n",
        "\n",
        "La razón por la cual es llamada de \"primer orden\" yace en que sólo ya primera derivada de $y$ está en la ecuación.\n",
        "\n",
        "###Lema\n",
        "Tenemos un $I \\subset \\mathbb{R}$ que es un intervalo abierto con $t_o \\in I$, donde $D \\subset \\mathbb{R} \\times \\mathbb{R}^n $ conjunto abierto, $f: D \\rightarrow \\mathbb{R}^n $ función continua que satisface $(t,x(t)) \\in D, \\forall t \\in I$. Entonces existe una solución al problema de valor inicial si y sólo si:\n",
        "\n",
        "$$x(t) = x_0 + \\int_{t_0}^{t} f(s,x(s))ds$$\n",
        "\n",
        "$\\underline{Dem}$. Si $x(t)$ solución al problema de valor inicial, entonces es una antiderivada de $f(t,x(t))$ en $I$ y por Teorema fundamental del Cálculo:\n",
        "\n",
        "$$x(t) - x(t_0) = \\int_{t_0}^{t} f(s,x(s))ds$$\n",
        "\n",
        "Como $x(t_0)=x_0$ obtenemos la ecuación del lema.\n",
        "\n"
      ]
    },
    {
      "cell_type": "markdown",
      "metadata": {
        "id": "4Cnelk8qrex3"
      },
      "source": [
        "## Integración Monte Carlo\n",
        "Antes de revisar la técnica mediante la cual se integra utilizando el método Monte Carlo, revisaremos los conceptos y resultados que hacen posible su uso.\n",
        "###Conceptos útiles\n",
        "**Variable aleatoria**\n",
        "Una variable aleatoria es la cantidad resultante de una función asociada a algún experimento que involucra azar. Por ejemplo, tirando dos dados podríamos tomar como v. a el número que salga y  $E_m = \\{ 1 , 2, 3, 4, 5, 6\\}$ es su espacio muestral.\n",
        "\n",
        "**Distribución de probabilidad** La distribución de probabilidad de una variable aleatoria es una función que asigna a cada suceso definido sobre la variable la probabilidad de que dicho suceso ocurra.\n",
        "\n",
        "**Esperanza** La esperana es el valor medio o esperado de una distribución. $\\mathbb{E}[X] = \\int_{-\\infty}^{\\infty} xf(x)dx$ en el caso continuo y $\\mathbb{E}[X]= \\sum_{i}^{i}x_if\\left(X_{i}\\right)$ en el caso discreto.\n",
        "\n",
        "**Varianza** La varianza de $X$ es la medida de dispersión de la distribución. $var(X) = \\mathbb{E}[X^2]- (\\mathbb{E}[X])^2$\n",
        "\n",
        "**Distribución Uniforme**\n",
        "Para este proyecto solo necesitamos saber que la distribución uniforme continua es una familia de distribuciones de probabilidad para variables aleatorias continuas, tales que para cada miembro de la familia, todos los intervalos de igual longitud en la distribución en su rango son igualmente probables. La escribiremos como $\\sim \\mathbb{U}_(a,b)$ donde $a, b$ extremos del intervalo.\n",
        "\n",
        "**Distribución Normal**\n",
        "La distribución Normal es  una de las distribuciones de probabilidad de variable continua que con más frecuencia aparece en estadística y en la teoría de probabilidades. La gráfica de su función de densidad tiene una forma acampanada y es simétrica respecto de un determinado parámetro estadístico. Esta curva se conoce como campana de Gauss y es el gráfico de una función gaussiana.\n",
        "\n"
      ]
    },
    {
      "cell_type": "markdown",
      "metadata": {
        "id": "21vkUUoeIcPK"
      },
      "source": [
        "###Teoremas importantes\n",
        "\n",
        "Para poder continuar con el desarrollo del proyecto y cumplir el objetivo, primero revisaremos los teoremas que hacen esto posible. Los teoremas ahondan en los conceptos de probabilidad revisados anteriormente.\n",
        "####**Ley de los grandes números**\n",
        "El promedio de $M$ variables aleatorias independientes e idénticamente distribuidas $x_i$, $\\bar{X}_M = \\frac{1}{M}\\sum_{i=1}^{M} x_i$, converge a $\\mathbb{E}[X]$ cuando M es suficientemente grande. Es decir,\n",
        "\n",
        "$$\\mathbb{P} (\\lim_{M\\to\\infty} \\bar{X}_M = \\mathbb{E}[X]) = 1$$\n",
        "La probabilidad de que el límite de $\\bar{X}_M$ con M muy grande sea igual a la esperanza de de $X$ es 1. Esto porque tenemos la posibilidad de que el muestreo  sea tal que el promedio no sea igual a la esperanza, pero conforme M se hace grande. la probabilidad de que esto ocurra tiende a 0.\n",
        "\n",
        "####**Teorema fundamental de Monte Carlo**\n",
        "Consideremos la variable aleatoria $G_{N}$, promedio de una función $g\\left(X_{i}\\right)$ con $x_i$ independientes e idénticamente distribuidas, es decir \n",
        "\n",
        "$$G_{N}=\\frac{1}{N}\\sum_{i=1}^{N}g\\left(X_{i}\\right) \\tag{1}$$\n",
        "\n",
        "Cuya esperanza y varianza son respectivamente\n",
        "\n",
        "$$\\mathbb{E}[G_N]=\\mathbb{E}[g(X)],var(G_N)=\\frac{var(g(X))}{N}\\tag{2}$$\n",
        "\n",
        "Al promedio $G_N$ se le llama estimador de $\\mathbb{E}[g(X)]$, pues su esperanza vale:\n",
        "\n",
        "$$\\mathbb{E}[G_N]=\\mathbb{E}[g(X)]=\\int_{-\\infty}^{\\infty}g(x)f(x)dx\\tag{3}$$\n",
        "\n",
        "Donde $X_i\\sim f$. Es decir que podemos evaluar la integral anterior generando un conjunto de $N$ variables aleatorias $X_{i}$ según $f(x)$ y evaluando $g(x)$ para cada una de ellas. \n",
        "\n",
        "El estimador (1) (la media aritmética de los $g(x)$ generados) nos da el valor de la integral (3). \n",
        "\n",
        "Ademas podemos ver que la varianza del estimador disminuye al crecer $N$. De hecho, aplicando la desigualdad de Chebyshev a la variable aleatoria $G_N$ con $\\sigma^{2}=var(G_N),\\,x^{2}=\\frac{\\sigma^{2}}{\\delta}\\,y\\,\\delta>0$,\n",
        "\n",
        "$$P(|G_N-\\mathbb{E}[G_N]|\\geq[\\frac{var(G_N)}{\\delta}]^{\\frac{1}{2}})\\leq\\delta \\tag{4}$$\n",
        "\n",
        "Lo que significa que generando una muestra suficientemente grande $(N >> \\frac{1}{\\delta})$ la probabilidad de que el estimador se aleje del valor esperado $g(X)$ es tan pequeña como se desee.\n",
        "\n",
        "####**Teorema del límite Central**\n",
        "Si la variable aleatoria $G_N$ toma valores $g_N$ y definimos:\n",
        "\n",
        "$$t_N = \\frac{g_N-\\mathbb{E}[g(X)]}{\\sqrt{var(G_N)}} = \\frac{g_N- \\mathbb{E}[g(X)]}{\\sqrt{var(g(X))}/\\sqrt{N}}$$\n",
        "\n",
        "El teorema del límite central establece que:\n",
        "\n",
        "$$\\lim_{N\\to\\infty}\\mathbb{P}(a<t_N<b)=\\int_{a}^{b} \\frac{e^{-\\frac{t^2}{2}}}{\\sqrt{2\\pi}}dt\\tag{1}$$\n",
        "\n",
        "Que nos dice que cuando N es lo suficientemente grande, los valores de $G_N$ tienen una distribución Normal de media $\\mu = \\mathbb{E}[g(X)]$ y varianza $\\sigma ^2 = var(g(X))$. \n",
        "\n",
        "Una vez considerados los anteriores teoremas, notamos que se concentran en la noción de que el muestreo aleatorio que tomaremos para la integración Monte Carlo se puede aproximar tanto como queramos pero tendremos que hacer muestreos lo suficientemente grandes y también considerar un gran número de iteraciones. Esto podría conllevar un alto costo computacional.\n"
      ]
    },
    {
      "cell_type": "markdown",
      "metadata": {
        "id": "zoRAybyvddve"
      },
      "source": [
        "\n",
        "Ahora revisaremos la técnica que utilizaremos para implementar el método Monte Carlo en la resolución de la integral que representa el IVP(Initial Value Problem) de la EDO de  primer orden.\n"
      ]
    },
    {
      "cell_type": "markdown",
      "metadata": {
        "id": "a05dwKTiIfF3"
      },
      "source": [
        "\n",
        "###Técnica de integración Monte Carlo\n",
        "\n",
        "## Métodos Monte Carlo\n",
        "\n",
        "La integral de la función es igual al área debajo de la curva. La longitud del intervalo $b-a$ por el valor promedio de la función, es decir:\n",
        "\n",
        "$$I = \\int_{a}^{b} f(x)dx = (b-a) f_{promedio} = (b-a)<f> $$\n",
        "\n",
        "Entonces buscamos una manera de calcular el valor promedio de la función a integrar. Aquí es donde los números aleatorios nos serán útiles. Para encontrar el valor promedio de la función en el intervalo $[a,b]$, primero tomaremos $M$ variables aleatorias $x_i$ uniformemente distribuidas entre $a$ y $b$. Después evaluaremos $f(x_i)$ para todas las muestras tomadas y obtendremos su promedio:\n",
        "\n",
        "$$<f>_M = \\frac{1}{M}\\sum_{i=1}^{M} f(x_i)$$\n",
        "\n",
        "Tenemos que el valor promedio de éstas evaluaciones se aproximara cada vez más a $<f>$ conforme $M \\rightarrow \\infty$. Por lo que obtenemos la siguiente expresión, también conocida como el estimador básico Monte Carlo:\n",
        "\n",
        "$$\\int_{a}^{b} f(x)dx = \\frac{(b-a)}{M}\\sum_{i=1}^{M} f(x_i) $$\n",
        "\n",
        "\n",
        "\n",
        "\n",
        "\n",
        "\n",
        "\n"
      ]
    },
    {
      "cell_type": "markdown",
      "metadata": {
        "id": "hhNN6yvEjkf9"
      },
      "source": [
        "Vamos a visualizar el teorema del límite central con la integración Monte Carlo"
      ]
    },
    {
      "cell_type": "markdown",
      "metadata": {
        "id": "Kf3XHLKBtBo2"
      },
      "source": [
        "**Bibliotecas Adicionales:**"
      ]
    },
    {
      "cell_type": "code",
      "metadata": {
        "id": "Rybido-Vs0En"
      },
      "source": [
        "%matplotlib inline\n",
        "\n",
        "import numpy as np\n",
        "from scipy import random\n",
        "from typing import Tuple,Callable\n",
        "from scipy.integrate import quadrature, odeint\n",
        "from scipy.integrate import solve_ivp\n",
        "import matplotlib.pyplot as plt"
      ],
      "execution_count": null,
      "outputs": []
    },
    {
      "cell_type": "markdown",
      "metadata": {
        "id": "VgdnPLoXtIK5"
      },
      "source": [
        "Primero vamos a visualizar la distribución de los promedios de una función generados por el método Monte Carlo con ayuda de un histograma. Lo haremos con el ejemplo siguiente:\n",
        "\n",
        "$$\\int_{0}^{\\pi} sin(x)dx = -cos(\\pi) - (-cos(0)) = -(-1)-(-1) = 2$$"
      ]
    },
    {
      "cell_type": "code",
      "metadata": {
        "id": "FClTtkBItIcP"
      },
      "source": [
        "def func(x): #Hacemos nuestra función a integrar\n",
        "        return np.sin(x)\n",
        "\n",
        "dom = [0,np.pi]#Intervalo predeterminado\n",
        "\n",
        "def MonteCarlo_int(func,N,dominio = dom):\n",
        "  \"\"\"\n",
        "    :param func: función a integrar\n",
        "    :param N: tamaño de muestra\n",
        "    :param dominio: arreglo con extremos del intervalo a integrar guardados\n",
        "  \"\"\"\n",
        "    \n",
        "  xrand= np.zeros(N) #Inicializamos arreglos que contendrán nuestros puntos aleatorios\n",
        "    \n",
        "  for i in range(N): #Llenamos los arreglos con el debido dominio\n",
        "    xrand[i] = random.uniform(dominio[0],dominio[1])\n",
        "    \n",
        "  integral = 0.0 #Inicializamos variable para resultado\n",
        "    \n",
        "  for i in range (N):\n",
        "    integral += func(xrand[i]) #Evaluamos la función en los puntos aleatorios\n",
        "\n",
        "  ans = integral/N #Dividimos entre el número de iteraciones para encontrar el promedio\n",
        "    \n",
        "  #Finalmente multiplicamos por el área de dominio\n",
        "    \n",
        "  return ans*(dominio[1]-dominio[0])\n",
        "\n"
      ],
      "execution_count": null,
      "outputs": []
    },
    {
      "cell_type": "code",
      "metadata": {
        "colab": {
          "base_uri": "https://localhost:8080/",
          "height": 476
        },
        "id": "v-yDJpYyEOU9",
        "outputId": "8a1ee63b-17db-4af6-b8f2-f287508b74ec"
      },
      "source": [
        "def Gauss(M):#\n",
        "    Int = [] #Arreglo que guarda los distintos resultados aleatorios de la integración MonteCarlo\n",
        "    for i in range(M):\n",
        "        Int.append(MonteCarlo_int(func,1000))#Definimos el tamaño de los muestreos aleatorios suf grande\n",
        "    return Int\n",
        "\n",
        "M = 1000 #Definimos suf iteraciones para que se note la forma de la distribución más claramente\n",
        "x = range(M)\n",
        "\n",
        "plt.title('Distribución de resultados')   \n",
        "plt.hist(Gauss(M), bins = 30, ec = 'black')"
      ],
      "execution_count": null,
      "outputs": [
        {
          "output_type": "execute_result",
          "data": {
            "text/plain": [
              "(array([ 1.,  1.,  3.,  4.,  5., 12.,  9., 13., 27., 33., 46., 48., 59.,\n",
              "        80., 70., 75., 88., 73., 66., 67., 52., 53., 30., 32., 18.,  6.,\n",
              "        10.,  4., 11.,  4.]),\n",
              " array([1.90134662, 1.90741198, 1.91347735, 1.91954271, 1.92560808,\n",
              "        1.93167344, 1.9377388 , 1.94380417, 1.94986953, 1.9559349 ,\n",
              "        1.96200026, 1.96806563, 1.97413099, 1.98019636, 1.98626172,\n",
              "        1.99232708, 1.99839245, 2.00445781, 2.01052318, 2.01658854,\n",
              "        2.02265391, 2.02871927, 2.03478464, 2.04085   , 2.04691536,\n",
              "        2.05298073, 2.05904609, 2.06511146, 2.07117682, 2.07724219,\n",
              "        2.08330755]),\n",
              " <a list of 30 Patch objects>)"
            ]
          },
          "metadata": {
            "tags": []
          },
          "execution_count": 3
        },
        {
          "output_type": "display_data",
          "data": {
            "image/png": "[encoded data removed]",
            "text/plain": [
              "<Figure size 432x288 with 1 Axes>"
            ]
          },
          "metadata": {
            "tags": [],
            "needs_background": "light"
          }
        }
      ]
    },
    {
      "cell_type": "markdown",
      "metadata": {
        "id": "az6dwaQklmiu"
      },
      "source": [
        "Aquí visualizamos los resultados de la integral, pero como todos los multiplicamos por el mismo intervalo de dominio, también visualizamos la distribución de los promedios generados. Notamos que esta asemeja una campana de Gauss, y refleja el Teorema del Límite Central revisado en el Marco Teórico. Su media con $N$´s suficientemente grandes es el resultado correcto: $2$."
      ]
    },
    {
      "cell_type": "markdown",
      "metadata": {
        "id": "2DUyRNYggnIH"
      },
      "source": [
        "##Error Asociado\n",
        "\n",
        "Nos preguntamos ahora, ¿Qué tan buen estimador de $\\mu_x = \\int_{-\\infty}^{\\infty} xf(x)dx$  es $\\bar{X}$? Revisamos la esperanza de su diferencia.\n",
        "\n",
        "$$\\mathbb{E} (\\bar{X}- \\mu_x)= \\mathbb{E} (\\bar{X}) -\\mu_x = (\\frac{1}{N}\\sum_{i=1}^{N} \\mathbb{E}(x_i)) -\\mu_x $$\n",
        "\n",
        "Como $\\mathbb{E}(x_i) = \\mu_x$ la esperanza de la diferencia es 0.\n",
        "\n",
        "Ahora, su varianza. \n",
        "\n",
        "$$var(\\bar{X}- \\mu_x) = var(\\bar{X})- var(\\mu_x) $$\n",
        "\n",
        "Ya que Monte Carlo toma v.a´s independientes, la varianza de la suma es la suma de sus varianzas. Por lo que\n",
        "\n",
        "$$var(\\bar{X}- \\mu_x) = \\frac{1}{N^2}\\sum_{i=1}^{N} var(x_i) = \\frac{1}{N^2}N\\sigma_x^2 = \\frac{\\sigma_x^2}{N}$$\n",
        "\n",
        "La cantidad $\\sigma_x$  es conocida como la desviación estándar. Por lo que, el error estándar decrece a razón de $\\sqrt{N}$. Es decir, para decrecer la variabilidad en el estimador de la media por un factor de 10 requiere incrementar por un factor de 100 el tamaño de la muestra.\n",
        "\n",
        "Por el Teorema del Límite Central, $\\bar{X}- \\mu_x \\sim \\mathbb{N}(0, \\frac{\\sigma_x^2}{\\sqrt{N}})$\n",
        "\n",
        "Usaremos esto para visualizar el posible error en nuestra solución. Para ello, tomaremos un intervalo de confianza del $99$%. En caso de la distribución normal, ocurre entre 3 desviaciones estándar. Es decir,\n",
        "\n",
        "$$\\mathbb{P}[-3 \\frac{\\sigma_x}{\\sqrt{N}} <\\bar{X}-\\mu_x <3\\frac{\\sigma_x}{\\sqrt{N}}] \\sim 0.99$$\n",
        "\n"
      ]
    },
    {
      "cell_type": "markdown",
      "metadata": {
        "id": "nS0Br4IPW1Dh"
      },
      "source": [
        "#Desarrollo\n",
        "\n",
        "Ahora estamos listos para la implementación combinada de EDO´s e integración Monte Carlo. Consideraremos la forma de EDO:\n",
        "\n",
        "$$\\frac{dx}{dt} = f(t,x(t))$$\n",
        "\n",
        "con $x(t_0)=x_0$ valor inicial de la ecuación. También utilizaremos el resultado que indica que podemos considerarla de la siguiente forma:\n",
        "\n",
        "$$x(t) = x_0 + \\int_{t_0}^{t} f(s,x(s))ds$$\n",
        "\n",
        "que discretizamos a pedazos más pequeños, pasando a:\n",
        "\n",
        "$$x(t) = x_0 + \\sum_{i=1}^{N} \\int_{t_{i-1}}^{t_i} f(s,x(s))ds$$\n",
        "\n",
        "Aplicando el Estimador Monte Carlo:\n",
        "\n",
        "$$x(t) = x_0 + \\sum_{i=1}^{N} [ \\frac{t_i - t_{i-1}}{k} \\sum_{k=1}^{K} f(t_k)]$$\n",
        "\n",
        "Que puede reescribirse como el proceso iterativo:\n",
        "\n",
        "$$x(t_i) = x(t_{i-1}) +  \\frac{t_i - t_{i-1}}{k} \\sum_{k=1}^{K} f(t_k)$$\n",
        "\n",
        "Que también podemos ver como:\n",
        "\n",
        "$$x(t_i) = x(t_{i-1}) +  \\mathbb{E}_{t \\sim \\mathbb{U}(t_{i-1},t_i)}[f(t)]$$\n",
        "\n",
        "Podemos ver que podemos resolver la EDO con una muestra de variables aleatorias distribuidas uniformemente y evaluando la función $f$ en ellas. No necesitamos una malla que se adapte u otro método para estimar el tamaño de los pasos, solo un buen muestreo aleatorio. "
      ]
    },
    {
      "cell_type": "markdown",
      "metadata": {
        "id": "HMMeSrVUk6Xc"
      },
      "source": [
        "##Implementación"
      ]
    },
    {
      "cell_type": "markdown",
      "metadata": {
        "id": "fXBkR_GGKQqF"
      },
      "source": [
        "Ahora la resolución de una EDO de primer orden lineal. Recordemos que una EDO de primer orden es aquella donde sólo está presente la primera derivada de $x$.\n"
      ]
    },
    {
      "cell_type": "code",
      "metadata": {
        "id": "bSgrBrLiNe7P"
      },
      "source": [
        "def mi_ode(func, x0, t, N=1):\n",
        "    \"\"\"\n",
        "    :param func: función del campo gradiente\n",
        "    :param x0: Valor inicial\n",
        "    :param t: Dominio de puntos sobre las cuales el campo de func debería ser integrado\n",
        "    :param N: tamaño de muestra aleatoria\n",
        "    \"\"\"\n",
        "    vals = [x0]\n",
        "    for lo, hi in zip(t[:-1], t[1:]):\n",
        "        vals.append(vals[-1] + MonteCarlo_int(func, N, [lo, hi]))\n",
        "    return vals\n",
        "\n",
        "#EDO Lineal\n",
        "\n",
        "def funclin(t):\n",
        "    return t**3 + 2 * t**2 - 3**t\n",
        "\n",
        "\n",
        "def analitica(t):\n",
        "  k = -2-(((-2)**4)/4 + (2/3)*((-2)**3) - (3**(-2)/np.log(3)))\n",
        "  return (t**4)/4 + (2/3)*(t**3) - (3**t/np.log(3)) +k\n"
      ],
      "execution_count": null,
      "outputs": []
    },
    {
      "cell_type": "code",
      "metadata": {
        "id": "pqW1ABk7Os5m"
      },
      "source": [
        "ts = np.linspace(-2.0, 2.0, 10) #establecemos un espacio de tiempo donde queremos ver la solución\n",
        "x0 = -2.0 #Establecemos condición inicial\n",
        "xs = [] #Arreglo de arreglos resultado de mi_ode\n",
        "for i in range(10):\n",
        "    ans = mi_ode(funclin, x0, ts)\n",
        "    xs.append(ans)\n",
        "\n",
        "x_mean = np.mean(xs, axis=0) #Promedio de la columna\n",
        "\n",
        "#Vamos a cambiar los parámetros de la imagen ya que por default se ve muy pequeña\n",
        "width = 15\n",
        "height = width / 1.65\n",
        "fig = plt.figure(figsize=(width, height))\n",
        "\n",
        "ys = analitica(ts)\n",
        "\n",
        "plt.plot(ts, x_mean, linewidth=6, label='Solución Monte Carlo N=10')\n",
        "plt.plot(ts, ys, linewidth=3, label='Solución analítica', color= 'red')\n",
        "\n",
        "errorg = []\n",
        "for i in ts:\n",
        "  errorg.append(abs(ys-x_mean))\n",
        "\n",
        "\n",
        "#Vamos a graficar el campo vectorial\n",
        "tt, xx = np.meshgrid(np.linspace(min(ts), max(ts), 10), np.linspace(-3, 3, 10))\n",
        "U = 1\n",
        "V = funclin(tt)\n",
        "N = np.sqrt(U**2 + V ** 2)\n",
        "U2, V2 = U/N, V/N\n",
        "plt.quiver(tt, xx, U2, V2, color='lightgray', label='Campo vectorial')\n",
        "\n",
        "#Graficamos la solución con el campo vectorial\n",
        "plt.xlabel(r't', fontsize=20)\n",
        "plt.ylabel(r'x', fontsize=20)\n",
        "plt.tick_params(axis='both', which='major', labelsize=16)\n",
        "plt.tick_params(axis='both', which='minor', labelsize=12)\n",
        "plt.legend(loc='upper left', fontsize=16)"
      ],
      "execution_count": null,
      "outputs": []
    },
    {
      "cell_type": "code",
      "metadata": {
        "id": "5q0cAftoxJKz"
      },
      "source": [
        "ts = np.linspace(-2.0, 2.0, 10) #establecemos un espacio de tiempo donde queremos ver la solución\n",
        "x0 = -2.0 #Establecemos condición inicial\n",
        "xs = [] #Arreglo de arreglos resultado de mi_ode\n",
        "for i in range(100):\n",
        "    ans = mi_ode(funclin, x0, ts)\n",
        "    xs.append(ans)\n",
        "\n",
        "x_mean = np.mean(xs, axis=0) #Promedio de la columna\n",
        "\n",
        "#Vamos a cambiar los parámetros de la imagen ya que por default se ve muy pequeña\n",
        "width = 15\n",
        "height = width / 1.65\n",
        "fig = plt.figure(figsize=(width, height))\n",
        "\n",
        "plt.plot(ts, x_mean, linewidth=6, label='Solución Monte Carlo N =100')\n",
        "plt.plot(ts, ys, linewidth=3, label='Solución analítica', color= 'red')\n",
        "\n",
        "errorc = []\n",
        "for i in ts:\n",
        "  errorc.append(abs(ys-x_mean))\n",
        "\n",
        "\n",
        "\n",
        "#Vamos a graficar el campo vectorial\n",
        "tt, xx = np.meshgrid(np.linspace(min(ts), max(ts), 10), np.linspace(-3, 3, 10))\n",
        "U = 1\n",
        "V = funclin(tt)\n",
        "N = np.sqrt(U**2 + V ** 2)\n",
        "U2, V2 = U/N, V/N\n",
        "plt.quiver(tt, xx, U2, V2, color='lightgray', label='Campo vectorial')\n",
        "\n",
        "#Graficamos la solución con el campo vectorial\n",
        "plt.xlabel(r't', fontsize=20)\n",
        "plt.ylabel(r'x', fontsize=20)\n",
        "plt.tick_params(axis='both', which='major', labelsize=16)\n",
        "plt.tick_params(axis='both', which='minor', labelsize=12)\n",
        "plt.legend(loc='upper left', fontsize=16)"
      ],
      "execution_count": null,
      "outputs": []
    },
    {
      "cell_type": "code",
      "metadata": {
        "colab": {
          "base_uri": "https://localhost:8080/",
          "height": 239
        },
        "id": "nh2C5m9iysrN",
        "outputId": "b6726059-6170-4ecc-cc01-524211bc37b1"
      },
      "source": [
        "x_std = np.std(xs, axis=0) #Desviación estándar de la columna\n",
        "\n",
        "#Vamos a cambiar los parámetros de la imagen ya que por default se ve muy pequeña\n",
        "width = 15\n",
        "height = width / 1.65\n",
        "fig = plt.figure(figsize=(width, height))\n",
        "\n",
        "plt.plot(ts, x_mean, linewidth=3, label='Solución Monte Carlo')\n",
        "plt.fill_between(ts, x_mean - 3 * x_std, x_mean + 3 * x_std, alpha=.75, color='r', label='Error asociado MC')\n",
        "\n",
        "#Vamos a graficar el campo vectorial\n",
        "tt, xx = np.meshgrid(np.linspace(min(ts), max(ts), 10), np.linspace(-3, 3, 10))\n",
        "U = 1\n",
        "V = funclin(tt)\n",
        "N = np.sqrt(U**2 + V ** 2)\n",
        "U2, V2 = U/N, V/N\n",
        "plt.quiver(tt, xx, U2, V2, color='lightgray', label='Campo vectorial')\n",
        "\n",
        "#Graficamos la solución con el campo vectorial y una solución por otro método\n",
        "plt.xlabel(r't', fontsize=20)\n",
        "plt.ylabel(r'x', fontsize=20)\n",
        "plt.tick_params(axis='both', which='major', labelsize=16)\n",
        "plt.tick_params(axis='both', which='minor', labelsize=12)\n",
        "plt.legend(loc='upper left', fontsize=16)"
      ],
      "execution_count": null,
      "outputs": [
        {
          "output_type": "error",
          "ename": "NameError",
          "evalue": "ignored",
          "traceback": [
            "\u001b[0;31m---------------------------------------------------------------------------\u001b[0m",
            "\u001b[0;31mNameError\u001b[0m                                 Traceback (most recent call last)",
            "\u001b[0;32m<ipython-input-5-f3fb24dbca36>\u001b[0m in \u001b[0;36m<module>\u001b[0;34m()\u001b[0m\n\u001b[0;32m----> 1\u001b[0;31m \u001b[0mx_std\u001b[0m \u001b[0;34m=\u001b[0m \u001b[0mnp\u001b[0m\u001b[0;34m.\u001b[0m\u001b[0mstd\u001b[0m\u001b[0;34m(\u001b[0m\u001b[0mxs\u001b[0m\u001b[0;34m,\u001b[0m \u001b[0maxis\u001b[0m\u001b[0;34m=\u001b[0m\u001b[0;36m0\u001b[0m\u001b[0;34m)\u001b[0m \u001b[0;31m#Desviación estándar de la columna\u001b[0m\u001b[0;34m\u001b[0m\u001b[0;34m\u001b[0m\u001b[0m\n\u001b[0m\u001b[1;32m      2\u001b[0m \u001b[0;34m\u001b[0m\u001b[0m\n\u001b[1;32m      3\u001b[0m \u001b[0;31m#Vamos a cambiar los parámetros de la imagen ya que por default se ve muy pequeña\u001b[0m\u001b[0;34m\u001b[0m\u001b[0;34m\u001b[0m\u001b[0;34m\u001b[0m\u001b[0m\n\u001b[1;32m      4\u001b[0m \u001b[0mwidth\u001b[0m \u001b[0;34m=\u001b[0m \u001b[0;36m15\u001b[0m\u001b[0;34m\u001b[0m\u001b[0;34m\u001b[0m\u001b[0m\n\u001b[1;32m      5\u001b[0m \u001b[0mheight\u001b[0m \u001b[0;34m=\u001b[0m \u001b[0mwidth\u001b[0m \u001b[0;34m/\u001b[0m \u001b[0;36m1.65\u001b[0m\u001b[0;34m\u001b[0m\u001b[0;34m\u001b[0m\u001b[0m\n",
            "\u001b[0;31mNameError\u001b[0m: name 'xs' is not defined"
          ]
        }
      ]
    },
    {
      "cell_type": "markdown",
      "metadata": {
        "id": "tRkeIHswW36U"
      },
      "source": [
        "#Análisis de resultados\n",
        "\n",
        "\n",
        "\n",
        " "
      ]
    },
    {
      "cell_type": "markdown",
      "metadata": {
        "id": "rtqmFULz32nz"
      },
      "source": [
        ""
      ]
    },
    {
      "cell_type": "code",
      "metadata": {
        "id": "Kgn1HYd73fsD"
      },
      "source": [
        "from prettytable import PrettyTable\n",
        "t = PrettyTable(['Tamaño de Muestra', 'Error máximo', 'Promedio de error'])\n",
        "t.add_row(['N=10', np.amax(errorc),np.mean(errorc)])\n",
        "t.add_row(['N=100', np.amax(errorg),np.mean(errorg)])\n",
        "print(t)"
      ],
      "execution_count": null,
      "outputs": []
    },
    {
      "cell_type": "markdown",
      "metadata": {
        "id": "KfG66CS333bQ"
      },
      "source": [
        ""
      ]
    },
    {
      "cell_type": "markdown",
      "metadata": {
        "id": "_fitUYGZW-U-"
      },
      "source": [
        "#Conclusiones\n",
        "\n",
        "1. Para este tipo de problemas la implementación de Monte Carlo resulta muy sencilla gracias a su flexibilidad. \n",
        "\n",
        "2. En el caso de la solución de ecuaciones diferenciales no debemos olvidar que el tamaño del intervalo de tiempo y qué tan \"fina\" hagamos la partición del intervalo  afecta como se comporta la desviación estándar. El resultado es más cercano conforme más fina sea.\n",
        "\n",
        "3. El método Monte Carlo es computacionalmente más costoso que otros solvers de EDO´s y como todo el proyecto indica que lo fundamental es un muestreo de buen tamaño, preguntarse si vale o no su implementación depende de que tan posible sea otorgárselo.\n",
        "\n"
      ]
    },
    {
      "cell_type": "markdown",
      "metadata": {
        "id": "LGwjjMD5XA4X"
      },
      "source": [
        "# Referencias\n",
        "\n",
        "*  Akhtar, Muhammad Naveed  [et al](http://static.bsu.az/w24/PIAMV4%20N2%202015/6%20Akhtar.pdf). SOLVING INITIAL VALUE ORDINARY DIFFERENTIAL EQUATIONS\n",
        "BY MONTE CARLO METHOD, Proceedings of IAM, V.4, N.2, 2015, pp.149-174.\n",
        "* [Teoremas importantes](https://www.ugr.es/~jillana/Docencia/FM/mc.pdf).\n",
        "* [Monte Carlo Integration](hhttps://inst.eecs.berkeley.edu/~cs294-13/fa09/lectures/scribe-lecture4.pdf).\n",
        "* [Monte Carlo Estimator](https://cs.dartmouth.edu/wjarosz/publications/dissertation/appendixA.pdf).\n",
        "*[Error Estimates for MC](https://ocw.mit.edu/courses/aeronautics-and-astronautics/16-90-computational-methods-in-aerospace-engineering-spring-2014/probabilistic-methods-and-optimization/error-estimates-for-the-monte-carlo-method/)\n",
        "*Otterbach, Johannes. Blog entry : How to Solve ODES with Monte Carlo Method\n",
        "*N, Metroplis. THE BEGINNING of the\n",
        "MONTE CARLO METHOD. Los Alamos Science Special issue, 1987, pp.125-130"
      ]
    }
  ]
}