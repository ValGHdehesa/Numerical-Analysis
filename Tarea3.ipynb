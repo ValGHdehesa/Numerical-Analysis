{
  "nbformat": 4,
  "nbformat_minor": 0,
  "metadata": {
    "colab": {
      "name": "Tarea3.ipynb",
      "provenance": [],
      "collapsed_sections": []
    },
    "kernelspec": {
      "name": "python3",
      "display_name": "Python 3"
    }
  },
  "cells": [
    {
      "cell_type": "markdown",
      "metadata": {
        "id": "5K1obrnVfRJo"
      },
      "source": [
        "Tarea #3 : Errores\n",
        "\n",
        "Integrantes:\n",
        "\n",
        "Dehesa Corona Valeria Carolina (DCVC)\n",
        "\n",
        "Romero Gordillo Emily (RGE)"
      ]
    },
    {
      "cell_type": "markdown",
      "metadata": {
        "id": "MKTwwCENTh8l"
      },
      "source": [
        "Bbiotecas adicionales:"
      ]
    },
    {
      "cell_type": "code",
      "metadata": {
        "id": "5vGriquEf3Qo"
      },
      "source": [
        "import numpy as np\n",
        "import matplotlib.pyplot as plt"
      ],
      "execution_count": null,
      "outputs": []
    },
    {
      "cell_type": "markdown",
      "metadata": {
        "id": "cpIDU-E5fSA2"
      },
      "source": [
        "Toma\n",
        "el código del algoritmo de Horner que viene en el jupyter de Notacion $fl(x)$ y modícalo\n",
        "de tal manera que ahora la lista de coeficientes que se recibe como parámetro tenga al\n",
        "coeficiente de grado cero en la posición cero de la lista y al coeficiente de grado $n$, en la\n",
        "última posición de la lista."
      ]
    },
    {
      "cell_type": "code",
      "metadata": {
        "id": "ZMKd10q2fSTi",
        "colab": {
          "base_uri": "https://localhost:8080/"
        },
        "outputId": "f0c1671f-0b4e-4d7d-97bc-fe0e84d4437f"
      },
      "source": [
        "#Dejamos el original para poder comparar resultados\n",
        "def horner(coef, x):\n",
        "    # el primer valor es igual al coeficiente mas grande\n",
        "    p = coef[0]\n",
        "    # comenzamos en 1 ya que el primer coeficiente se asigna antes\n",
        "    # de ingresar al ciclo for\n",
        "    for i in range(1,len(coef)):\n",
        "        # se calcula el resto de los valores como se describe en\n",
        "        # en algoritmo\n",
        "        p = coef[i]+x*p\n",
        "    print(p)\n",
        "\n",
        "#se evalua el polinio (en forma de lista de coeficientes) en x=2\n",
        "horner([8,-4,5,-4,-2], 2)"
      ],
      "execution_count": null,
      "outputs": [
        {
          "output_type": "stream",
          "text": [
            "106\n"
          ],
          "name": "stdout"
        }
      ]
    },
    {
      "cell_type": "code",
      "metadata": {
        "id": "45JAee43hSeE"
      },
      "source": [
        ""
      ],
      "execution_count": null,
      "outputs": []
    },
    {
      "cell_type": "code",
      "metadata": {
        "id": "Azui9bHqUN5b",
        "colab": {
          "base_uri": "https://localhost:8080/"
        },
        "outputId": "df2e9f8e-3067-4cc9-f807-8253829fc46f"
      },
      "source": [
        "'''Algoritmo de Horner para evaluar polinomios\n",
        "coef: lista de coeficientes comenzando de izquierda\n",
        "a derecha por el de mayor grado\n",
        "x: valor en el cual se quiere evaluar el polinomio\n",
        "Nos interesa que funcione al revés\n",
        "'''\n",
        "def hornernew(coef, x):\n",
        "    # el primer valor es igual al coeficiente mas grande\n",
        "    p = coef[-1]\n",
        "    # comenzamos en 1 ya que el primer coeficiente se asigna antes\n",
        "    # de ingresar al ciclo for\n",
        "    for i in range(len(coef)-2,-1,-1):\n",
        "        # se calcula el resto de los valores como se describe en\n",
        "        # en algoritmo\n",
        "        p = coef[i]+x*p\n",
        "    print(p)\n",
        "\n",
        "#se evalua el polinio (en forma de lista de coeficientes) en x=2\n",
        "#Ingresamos la lista al revés\n",
        "hornernew([-2,-4,5,-4,8], 2)"
      ],
      "execution_count": null,
      "outputs": [
        {
          "output_type": "stream",
          "text": [
            "106\n"
          ],
          "name": "stdout"
        }
      ]
    },
    {
      "cell_type": "markdown",
      "metadata": {
        "id": "Vlb1eLxgcLgC"
      },
      "source": [
        "Muestra el razonamiento empleado para encontrar ambas $T (n)$. Utiliza la definición de cota superior asintótica para que puedas determinar a que orden de complejidad computacional pertenece cada uno de estos algoritmos $T_1 (n) ∈ O (?)$ y $T_2 (n) ∈ O (?)$.\n",
        "\n"
      ]
    },
    {
      "cell_type": "markdown",
      "metadata": {
        "id": "ckitxOcRgR-C"
      },
      "source": [
        "| $$n$$        |  $$Tradicional$$        | $$Horner$$            | \n",
        "| :-:           |    :-:           |    :-:        | \n",
        "| $1$   |  $2$ |$2$ |\n",
        "| $2$   |  $5$ |$4$ |\n",
        "| $3$   | $9$ |$6$ |\n",
        "| $4$   |$14$ |$8$ |\n",
        "| $\\cdots$ | $\\cdots$ |$\\cdots$ |\n",
        "| $n$  |  $?$ |$?$ |\n",
        "\n"
      ]
    },
    {
      "cell_type": "markdown",
      "metadata": {
        "id": "UwEZxH1-i-4l"
      },
      "source": [
        "La forma general de un polinomio de grado $n$ es :\n",
        "$$ P(x) = a_n x^n + a_{n-1}x^{n-1}+...+a_1x^1+a_0$$\n",
        "Como nos interesa revisar los \"peores casos\", es decir, aquellos ejemplos donde el número de operaciones realizadas sea el máximo posible, $a_i \\geq 0, \\forall i$."
      ]
    },
    {
      "cell_type": "markdown",
      "metadata": {
        "id": "1Ca76TT-kAU6"
      },
      "source": [
        "Mediante el método tradicional tenemos que:\n",
        "\n",
        "|        |     $$P (x) = $$     |      $$a_n x^n + a_{n-1}x^{n-1}+...+a_1x^1+a_0$$     | ||\n",
        "| :-:           |    :-:           |    :-:        | ||\n",
        "| $grado$   |  |No. de sumas| No. de multiplicaciones|No. de operaciones |\n",
        "| $0$   |  $a_0$ | |||\n",
        "| $1$   | $a_0 + a_1  x$ |$1$|$1$|$1+1=2$|\n",
        "| $2$   |$(a_0 + a_1 x)+a_2x^2$ |$1$|$2$|$(2)+1+2=5$|\n",
        "| $3$   |$(a_0 + a_1 x)+a_2x^2)+a_3x^3$ |$1$|$3$|$(5)+1+3=9$|\n",
        "| $4$   |$((a_0 + a_1 x)+a_2x^2)+a_3x^3)+a_4x^4$ |$1$|$4$|$(9)+1+4=14$|\n",
        "| $\\cdots$ | $\\cdots$ |$\\cdots$ |||\n",
        "| $n$  |  $((a_0 + a_1 x)+a_2x^2)\\cdots)a_n x^n$ |$1$ |$n$|$\\frac{n^2+3n}{2}$|\n"
      ]
    },
    {
      "cell_type": "markdown",
      "metadata": {
        "id": "LMQflExJpair"
      },
      "source": [
        "Como para el método de Horner tenemos que:"
      ]
    },
    {
      "cell_type": "markdown",
      "metadata": {
        "id": "bjtckww_tjak"
      },
      "source": [
        " $$P (x) = a_n x^n + a_{n-1}x^{n-1}+...+a_1x^1+a_0$$     \n",
        "\n",
        " Hacemos $a_n = C_n$\n",
        " \n",
        "$\\cdots$\n",
        "\n",
        "$C_i = a_i + xC_{i+1}$\n",
        "\n",
        "$\\cdots$\n",
        "\n",
        "$C_0 = a_0+ xC_1 = P(x)$"
      ]
    },
    {
      "cell_type": "markdown",
      "metadata": {
        "id": "LxV6qHb-tooA"
      },
      "source": [
        "Podemos notar que cada $C_i$ se encuentra con una suma y una multiplicación. Por lo tanto, en el peor de los casos:\n",
        "\n",
        "$T_2(n)= (1+1)n = 2n$\n",
        "\n",
        "Por lo tanto:\n",
        "\n",
        "$T_1(n) \\in O(n^2)$\n",
        "\n",
        "$T_2(n) \\in O(n)$"
      ]
    },
    {
      "cell_type": "markdown",
      "metadata": {
        "id": "NVGC7-s_wEuP"
      },
      "source": [
        "Mediante la biblioteca de matplotlib gra\u001cca el comportamiento de ambos algoritmos $T_1 (n)$ y $T_2 (n)$. Claramente el algoritmo de Horner realiza menos operaciones."
      ]
    },
    {
      "cell_type": "code",
      "metadata": {
        "id": "eogctcnLxx59",
        "colab": {
          "base_uri": "https://localhost:8080/",
          "height": 299
        },
        "outputId": "fa568063-2b6e-4a8b-f860-934dd8641155"
      },
      "source": [
        "def Plotting():\n",
        "  a = np.linspace(0.0, 10.0, num=10)\n",
        "  b = np.linspace(2.0, 3.0, num=5)\n",
        "\n",
        "  x = np.array(((a**2)+3*a)/2)\n",
        "  y = np.array(2*a)\n",
        "\n",
        "  plt.plot(a,x,label='Tradicional')\n",
        "  plt.plot(a,y,label='Algortimo de Horner')\n",
        "  plt.title('Grado vs FLOPs')\n",
        "  plt.legend()\n",
        "  plt.grid(True)\n",
        "  plt.show()\n",
        "\n",
        "print(Plotting())\n",
        "\n"
      ],
      "execution_count": null,
      "outputs": [
        {
          "output_type": "display_data",
          "data": {
            "image/png": "[encoded data removed]",
            "text/plain": [
              "<Figure size 432x288 with 1 Axes>"
            ]
          },
          "metadata": {
            "tags": [],
            "needs_background": "light"
          }
        },
        {
          "output_type": "stream",
          "text": [
            "None\n"
          ],
          "name": "stdout"
        }
      ]
    },
    {
      "cell_type": "code",
      "metadata": {
        "id": "UWoANgrsGgST",
        "colab": {
          "base_uri": "https://localhost:8080/",
          "height": 352
        },
        "outputId": "5ecca069-918c-400c-ff8a-3643f07a564d"
      },
      "source": [
        "def main():\n",
        "  horner([8,-4,5,-4,-2], 2)\n",
        "  hornernew([-2,-4,5,-4,8], 2)\n",
        "  print(Plotting())\n",
        "print(main())"
      ],
      "execution_count": null,
      "outputs": [
        {
          "output_type": "stream",
          "text": [
            "106\n",
            "106\n"
          ],
          "name": "stdout"
        },
        {
          "output_type": "display_data",
          "data": {
            "image/png": "[encoded data removed]",
            "text/plain": [
              "<Figure size 432x288 with 1 Axes>"
            ]
          },
          "metadata": {
            "tags": [],
            "needs_background": "light"
          }
        },
        {
          "output_type": "stream",
          "text": [
            "None\n",
            "None\n"
          ],
          "name": "stdout"
        }
      ]
    }
  ]
}